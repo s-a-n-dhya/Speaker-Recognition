{
 "cells": [
  {
   "cell_type": "code",
   "execution_count": 1,
   "metadata": {},
   "outputs": [],
   "source": [
    "import librosa, matplotlib.pyplot as plt, numpy as np\n",
    "from scipy.spatial.distance import mahalanobis\n",
    "from sklearn.metrics import classification_report\n",
    "\n",
    "# define functions\n",
    "def mfcc_avg(files):\n",
    "    avg = []\n",
    "    for file in files:\n",
    "        samples, samplingrate = librosa.load(file, sr=16000, mono=True, offset=0.0, duration=None)\n",
    "        mfcc = librosa.feature.mfcc(y=samples, sr=samplingrate, win_length=400, hop_length=200, n_mfcc=13)\n",
    "        avg.append(np.average(mfcc, axis=1))\n",
    "    return np.average(avg, axis=0)\n",
    "\n",
    "def distance(avg, test, cov_inv):\n",
    "    return mahalanobis(avg, test, cov_inv)\n",
    "\n",
    "def predict_speaker(test, avg_i, cov_inv):\n",
    "    samples, samplingrate = librosa.load(test, sr=16000, mono=True, offset=0.0, duration=None)\n",
    "    mfcc_test = librosa.feature.mfcc(y=samples, sr=samplingrate, win_length=400, hop_length=200, n_mfcc=13)\n",
    "    avg_test = np.average(mfcc_test, axis=1)\n",
    "    # Calculate and compare Mahalanobis distances\n",
    "    d={}\n",
    "    for ind in dataset:\n",
    "        d[ind]= distance(avg_i[ind], avg_test, cov_inv)\n",
    "    matchv=min(d, key= lambda k: d.get(k))\n",
    "    return matchv"
   ]
  },
  {
   "cell_type": "code",
   "execution_count": 2,
   "metadata": {},
   "outputs": [
    {
     "name": "stdout",
     "output_type": "stream",
     "text": [
      "              precision    recall  f1-score   support\n",
      "\n",
      "         Adi       0.00      0.00      0.00         1\n",
      "         Jay       1.00      1.00      1.00         1\n",
      "        Niru       0.50      1.00      0.67         1\n",
      "        Rose       1.00      1.00      1.00         1\n",
      "         San       1.00      1.00      1.00         1\n",
      "\n",
      "    accuracy                           0.80         5\n",
      "   macro avg       0.70      0.80      0.73         5\n",
      "weighted avg       0.70      0.80      0.73         5\n",
      "\n"
     ]
    }
   ],
   "source": [
    "# Calculate average of MFCC features\n",
    "# Dataset\n",
    "dataset={\n",
    "         'San':[\"vsa1.wav\", \"vsa2.wav\", \"vsa3.wav\"],\n",
    "         'Rose':[\"vro1.wav\", \"vro2.wav\", \"vro3.wav\"],\n",
    "         'Adi':[\"vak1.wav\", \"vak2.wav\", \"vak3.wav\"],\n",
    "         'Niru':[\"vni1.wav\",\"vni2.wav\",\"vni3.wav\"],\n",
    "         'Jay':[\"vja1.wav\",\"vja2.wav\",\"vja3.wav\"],\n",
    "         }\n",
    "\n",
    "# Testset\n",
    "testset = {\n",
    "    'chkni.wav': 'Niru',\n",
    "    'chkro.wav': 'Rose',\n",
    "    'chksa.wav': 'San',\n",
    "    'chkja.wav': 'Jay',\n",
    "    'chkak.wav': 'Adi'\n",
    "}\n",
    "\n",
    "avg_i = {}\n",
    "for ind in dataset:\n",
    "    avg_i[ind] = mfcc_avg(dataset[ind])\n",
    "\n",
    "# Calculate covariance matrix and its inverse for Mahalanobis distance\n",
    "stack=np.vstack(list(avg_i.values()))\n",
    "covm= np.cov(stack.T)\n",
    "cov_inv = np.linalg.pinv(covm)\n",
    "\n",
    "# Calculate metrics\n",
    "true_labels = []\n",
    "test_labels = []\n",
    "\n",
    "for test, speaker in testset.items():\n",
    "    true_labels.append(speaker)\n",
    "    test_labels.append(predict_speaker(test, avg_i, cov_inv))\n",
    "\n",
    "print(classification_report(true_labels,test_labels, zero_division=0))\n",
    "\n"
   ]
  }
 ],
 "metadata": {
  "kernelspec": {
   "display_name": "Python 3",
   "language": "python",
   "name": "python3"
  },
  "language_info": {
   "codemirror_mode": {
    "name": "ipython",
    "version": 3
   },
   "file_extension": ".py",
   "mimetype": "text/x-python",
   "name": "python",
   "nbconvert_exporter": "python",
   "pygments_lexer": "ipython3",
   "version": "3.11.6"
  }
 },
 "nbformat": 4,
 "nbformat_minor": 2
}
